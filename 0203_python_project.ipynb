{
  "nbformat": 4,
  "nbformat_minor": 0,
  "metadata": {
    "colab": {
      "provenance": [],
      "authorship_tag": "ABX9TyMU67LQ5QmJzZv4ZM5s83vU",
      "include_colab_link": true
    },
    "kernelspec": {
      "name": "python3",
      "display_name": "Python 3"
    },
    "language_info": {
      "name": "python"
    }
  },
  "cells": [
    {
      "cell_type": "markdown",
      "metadata": {
        "id": "view-in-github",
        "colab_type": "text"
      },
      "source": [
        "<a href=\"https://colab.research.google.com/github/Yeen000/Aiffel/blob/master/0203_python_project.ipynb\" target=\"_parent\"><img src=\"https://colab.research.google.com/assets/colab-badge.svg\" alt=\"Open In Colab\"/></a>"
      ]
    },
    {
      "cell_type": "markdown",
      "source": [
        "## 사각형 넓이 구하기\n",
        "* 참고: 사각형의 종류를 입력하면 바로 관련 함수를 출력하도록 수정함"
      ],
      "metadata": {
        "id": "BzR8OjOemGbF"
      }
    },
    {
      "cell_type": "code",
      "execution_count": 120,
      "metadata": {
        "colab": {
          "base_uri": "https://localhost:8080/"
        },
        "id": "r2VWtv6eipzv",
        "outputId": "5fd1ba22-106c-470c-a834-de4d3328ee12"
      },
      "outputs": [
        {
          "output_type": "stream",
          "name": "stdout",
          "text": [
            "넓이를 구하고 싶은 사각형의 숫자를 써주세요.\n",
            " 1.직사각형 2.평행사변형 3.사다리꼴 \n",
            " >>>3\n",
            "밑변,윗변,높이를 입력하세요. 예시 : 3,2,5 \n",
            " >>>4,2,5\n",
            "사다리꼴의 넓이는 : 15.0\n"
          ]
        }
      ],
      "source": [
        "class Square:\n",
        "    def __init__(self):\n",
        "        self.square = int(input('넓이를 구하고 싶은 사각형의 숫자를 써주세요.\\n 1.직사각형 2.평행사변형 3.사다리꼴 \\n >>>'))\n",
        "\n",
        "        if self.square == 1:\n",
        "          print(self.rect())\n",
        "\n",
        "        elif self.square == 2:\n",
        "          print(self.par())\n",
        "\n",
        "        elif self.square == 3:\n",
        "            print(self.trape())\n",
        "\n",
        "        else:\n",
        "            print('1, 2, 3 중에서 다시 입력해주세요')\n",
        "\n",
        "    def rect(self):  # 직사각형의 넓이를 구하는 메서드\n",
        "        width, vertical = map(int, input('가로, 세로를 입력하세요. 예시 : 3,5\\n >>>').split(','))  #가로, 세로를 입력받는 코드\n",
        "        area = width*vertical\n",
        "        result = '직사각형의 넓이는 : ' + str(area)\n",
        "        return result\n",
        "\n",
        "    def par(self): # 평행사변형 메서드\n",
        "        width, vertical = map(int, input('밑변, 높이를 입력하세요. 예시 : 3,5\\n >>>').split(','))\n",
        "        area = width*vertical\n",
        "        result = '평행사변형의 넓이는 : ' + str(area)\n",
        "        return result\n",
        "\n",
        "\n",
        "    def trape(self):# 사다리꼴 메서드\n",
        "        bottom, top, vertical = map(int, input('밑변,윗변,높이를 입력하세요. 예시 : 3,2,5 \\n >>>').split(','))\n",
        "        area = (bottom+top)*vertical/2\n",
        "        result = '사다리꼴의 넓이는 : ' + str(area)\n",
        "        return result\n",
        "\n",
        "a = Square()"
      ]
    },
    {
      "cell_type": "markdown",
      "source": [
        "## 키오스크 만들기"
      ],
      "metadata": {
        "id": "36Cu5mwY1E9m"
      }
    },
    {
      "cell_type": "code",
      "source": [
        "from datetime import datetime\n",
        "\n",
        "class Kiosk:\n",
        "    def __init__(self):\n",
        "      self.menu = [['americano', 'latte', 'mocha', 'yuza_tea', 'green_tea', 'choco_latte'],\n",
        "                    [2000, 3000, 3000, 2500, 2500, 3000]]\n",
        "      self.order_menu = []  # 주문 리스트\n",
        "      self.order_price = []  # 가격 리스트\n",
        "      self.temp_list = []  # 온도 리스트 (HOT/ICE)\n",
        "\n",
        "    def menu_print(self):\n",
        "        # 메뉴 출력\n",
        "        # for i in range(len(self.menu[0])):\n",
        "        #     print(f\"{i+1}. {self.menu[0][i]} : {self.menu[1][i]}원\")\n",
        "        # print()\n",
        "\n",
        "        #enumerate 사용\n",
        "        for index, (name, price) in enumerate(zip(self.menu[0], self.menu[1])):\n",
        "           print(f\"{index+1}. {name} : {price}원\")\n",
        "\n",
        "    def menu_select(self):\n",
        "        self.order_menu  # 주문 리스트\n",
        "        self.order_price  # 가격 리스트\n",
        "        self.temp_list  # 온도 리스트 (HOT/ICE)\n",
        "        self.order_time = datetime.now().strftime(\"%Y-%m-%d %H:%M:%S\") #주문일시\n",
        "\n",
        "        while True:  # 주문 루프\n",
        "            try:\n",
        "                # 음료 번호 입력\n",
        "                n = int(input(\"\\n음료 번호를 입력하세요 : \"))\n",
        "\n",
        "                # 메뉴에 있는 음료 번호인지 확인\n",
        "                if 1 <= n <= len(self.menu[0]):\n",
        "                    self.order_menu.append(self.menu[0][n-1])\n",
        "                    self.order_price.append(self.menu[1][n-1])\n",
        "\n",
        "                    # HOT 또는 ICE 선택\n",
        "                    while True:\n",
        "                        try:\n",
        "                            t = int(input(\"HOT 음료는 1, ICE 음료는 2를 입력하세요 : \"))\n",
        "                            if t == 1:\n",
        "                                self.temp_list.append(\"hot\")\n",
        "                                break\n",
        "                            elif t == 2:\n",
        "                                self.temp_list.append(\"ice\")\n",
        "                                break\n",
        "                            else:\n",
        "                                print(\"⚠ 1과 2 중 하나를 입력해주세요.\")\n",
        "                        except ValueError:\n",
        "                            print(\"⚠ 숫자를 입력해 주세요.\")\n",
        "\n",
        "                    # 추가 주문 여부 확인\n",
        "                    while True:\n",
        "                        try:\n",
        "                            c = int(input(\"\\n주문을 계속하시려면 1을, 그만하시려면 0을 입력해 주세요: \"))\n",
        "                            if c == 0:\n",
        "                                print(\"\\n✅ 주문이 완료되었습니다!\")\n",
        "                                for i in range(len(self.order_menu)):\n",
        "                                    print(f\"{self.order_menu[i]} ({self.temp_list[i]}) - {self.order_price[i]}원\")\n",
        "                                return  # 주문을 완전히 종료\n",
        "                            elif c == 1:\n",
        "                                break  # 추가 주문 루프를 나와서 다시 주문 받음\n",
        "                            else:\n",
        "                                print(\"⚠ 잘못된 입력입니다. 다시 입력해 주세요.\")\n",
        "                        except ValueError:\n",
        "                            print(\"⚠ 숫자를 입력해 주세요.\")\n",
        "\n",
        "                else:\n",
        "                    print(\"⚠ 없는 메뉴입니다. 다시 입력해 주세요.\")\n",
        "\n",
        "            except ValueError:\n",
        "                print(\"⚠ 숫자를 입력해 주세요.\")\n",
        "                continue\n",
        "\n",
        "    def pay(self):\n",
        "        self.sum = sum(self.order_price)\n",
        "        print()\n",
        "        print(f\"총지불할 금액은 {self.sum}입니다\")\n",
        "        while True:\n",
        "            choice = int(input(\"\\n어떤 지불 수단을 이용하시겠습니까? Cash는 1을, Card는 2를 입력해 주세요 : \"))\n",
        "            if choice == 1:\n",
        "                print(\"\\n직원을 호출하겠습니다\")\n",
        "                return\n",
        "            elif choice == 2:\n",
        "                print(\"\\nIC칩 방향에 맞게 카드를 꽂아주세요\")\n",
        "                return\n",
        "            else:\n",
        "                print(\"\\n다시 입력해주세요.\")\n",
        "\n",
        "    def decorate_table(func):\n",
        "      def wrapper(self, *args, **kwargs):\n",
        "          print('⟝' + '-' * 30 + '⟞')\n",
        "          for _ in range(5):\n",
        "              print('|' + ' ' * 31 + '|')\n",
        "\n",
        "          func(self, *args, **kwargs)  # 원래 table() 실행\n",
        "\n",
        "          for _ in range(5):\n",
        "              print('|' + ' ' * 31+ '|')\n",
        "          print('⟝' + '-' * 30 + '⟞')\n",
        "      return wrapper\n",
        "\n",
        "    @decorate_table\n",
        "    def table(self):\n",
        "        #주문일시\n",
        "        print(\" \"*2, \"주문일시 :\", self.order_time )\n",
        "        #주문상품과 금액\n",
        "        for i in range(len(self.order_menu)):\n",
        "            print(\" \"*5, f\"{self.order_menu[i]}({self.temp_list[i]}) : {self.order_price[i]}\")\n",
        "        #합계금액\n",
        "        print(\" \"*5, \"합계 금액은\",sum(self.order_price),\"입니다\")"
      ],
      "metadata": {
        "id": "HjsDvoq_Vv0k"
      },
      "execution_count": 113,
      "outputs": []
    },
    {
      "cell_type": "code",
      "source": [
        "a = Kiosk()  # 객체를 생성합니다.\n",
        "a.menu_print()\n",
        "a.menu_select()\n",
        "a.pay()\n",
        "a.table()"
      ],
      "metadata": {
        "colab": {
          "base_uri": "https://localhost:8080/"
        },
        "id": "BVTS6-O0jM3n",
        "outputId": "483d5536-0065-40b7-af02-de0f524026e3"
      },
      "execution_count": 114,
      "outputs": [
        {
          "output_type": "stream",
          "name": "stdout",
          "text": [
            "1. americano : 2000원\n",
            "2. latte : 3000원\n",
            "3. mocha : 3000원\n",
            "4. yuza_tea : 2500원\n",
            "5. green_tea : 2500원\n",
            "6. choco_latte : 3000원\n",
            "\n",
            "음료 번호를 입력하세요 : 3\n",
            "HOT 음료는 1, ICE 음료는 2를 입력하세요 : 2\n",
            "\n",
            "주문을 계속하시려면 1을, 그만하시려면 0을 입력해 주세요: 1\n",
            "\n",
            "음료 번호를 입력하세요 : 5\n",
            "HOT 음료는 1, ICE 음료는 2를 입력하세요 : 5\n",
            "⚠ 1과 2 중 하나를 입력해주세요.\n",
            "HOT 음료는 1, ICE 음료는 2를 입력하세요 : 2\n",
            "\n",
            "주문을 계속하시려면 1을, 그만하시려면 0을 입력해 주세요: 0\n",
            "\n",
            "✅ 주문이 완료되었습니다!\n",
            "mocha (ice) - 3000원\n",
            "green_tea (ice) - 2500원\n",
            "\n",
            "총지불할 금액은 5500입니다\n",
            "\n",
            "어떤 지불 수단을 이용하시겠습니까? Cash는 1을, Card는 2를 입력해 주세요 : 2\n",
            "\n",
            "IC칩 방향에 맞게 카드를 꽂아주세요\n",
            "⟝------------------------------⟞\n",
            "|                               |\n",
            "|                               |\n",
            "|                               |\n",
            "|                               |\n",
            "|                               |\n",
            "   주문일시 : 2025-02-03 07:22:08\n",
            "      mocha(ice) : 3000\n",
            "      green_tea(ice) : 2500\n",
            "      합계 금액은 5500 입니다\n",
            "|                               |\n",
            "|                               |\n",
            "|                               |\n",
            "|                               |\n",
            "|                               |\n",
            "⟝------------------------------⟞\n"
          ]
        }
      ]
    },
    {
      "cell_type": "code",
      "source": [],
      "metadata": {
        "id": "VfZPrjlNkzoF"
      },
      "execution_count": null,
      "outputs": []
    },
    {
      "cell_type": "code",
      "source": [],
      "metadata": {
        "id": "13VPAgfDVykz"
      },
      "execution_count": null,
      "outputs": []
    },
    {
      "cell_type": "code",
      "source": [],
      "metadata": {
        "id": "CbKhqwwh3J-0"
      },
      "execution_count": null,
      "outputs": []
    }
  ]
}